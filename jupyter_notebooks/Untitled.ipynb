{
 "cells": [
  {
   "cell_type": "code",
   "execution_count": 94,
   "metadata": {},
   "outputs": [],
   "source": [
    "from __future__ import print_function\n",
    "from apiclient.discovery import build\n",
    "from httplib2 import Http\n",
    "from oauth2client import file, client, tools\n",
    "from datetime import datetime, timedelta\n",
    "import pytz\n",
    "import yaml\n",
    "import pprint"
   ]
  },
  {
   "cell_type": "code",
   "execution_count": 32,
   "metadata": {},
   "outputs": [
    {
     "name": "stdout",
     "output_type": "stream",
     "text": [
      "{'1. urgent': {}, '2. important': {}, '3. not important': {}, '4. papers': {}}\n"
     ]
    }
   ],
   "source": [
    "stream = open('../calendars.yaml', 'r')\n",
    "dic = next(yaml.load_all(stream))\n",
    "pcalendars = {p: {} for p in dic['planning']}\n",
    "print(pcalendars)"
   ]
  },
  {
   "cell_type": "code",
   "execution_count": 33,
   "metadata": {},
   "outputs": [],
   "source": [
    "# Setup the Calendar API\n",
    "SCOPES = 'https://www.googleapis.com/auth/calendar.readonly'\n",
    "store = file.Storage('../credentials.json')\n",
    "creds = store.get()\n",
    "if not creds or creds.invalid:\n",
    "    flow = client.flow_from_clientsecrets('client_secret.json', SCOPES)\n",
    "    creds = tools.run_flow(flow, store)\n",
    "service = build('calendar', 'v3', http=creds.authorize(Http()))\n"
   ]
  },
  {
   "cell_type": "code",
   "execution_count": 42,
   "metadata": {},
   "outputs": [
    {
     "name": "stdout",
     "output_type": "stream",
     "text": [
      "{'1. urgent': {'id': 'is6me76qbdsjri3v1op0ago7ds@group.calendar.google.com'},\n",
      " '2. important': {'id': '8ns7fa75fqtb6sn4acn9nvajhc@group.calendar.google.com'},\n",
      " '3. not important': {'id': '9dsoaf8r7lmms2r0smaajn2dv8@group.calendar.google.com'},\n",
      " '4. papers': {'id': '1u18oiuto6lb2jkpo4o7eg66fg@group.calendar.google.com'}}\n"
     ]
    }
   ],
   "source": [
    "# Get all Relevnt Calendars\n",
    "desired_attributes = ['id']\n",
    "page_token = None\n",
    "while True:\n",
    "  calendar_list = service.calendarList().list(pageToken=page_token).execute()\n",
    "  for calendar_list_entry in calendar_list['items']:\n",
    "    if calendar_list_entry['summary'] in dic['planning']:\n",
    "        for att in desired_attributes:\n",
    "            pcalendars[calendar_list_entry['summary']][att] = calendar_list_entry[att]\n",
    "  page_token = calendar_list.get('nextPageToken')\n",
    "  if not page_token:\n",
    "    break\n",
    "    \n",
    "pprint.pprint(pcalendars)\n"
   ]
  },
  {
   "cell_type": "code",
   "execution_count": 108,
   "metadata": {},
   "outputs": [
    {
     "name": "stdout",
     "output_type": "stream",
     "text": [
      "Getting the upcoming 10 events\n",
      "2018-05-17T14:43:00.235728Z\n",
      "2018-05-17T00:00:00-04:56\n",
      "\n",
      "1. urgent\n",
      "2018-05-16T23:30:00-04:00 other: plan time\n",
      "2018-05-17T04:00:00-04:00 block\n",
      "2018-05-17T07:00:00-04:00 block\n",
      "\n",
      "2. important\n",
      "2018-05-17T18:00:00-07:00 read\n",
      "\n",
      "3. not important\n",
      "No upcoming events found.\n",
      "\n",
      "4. papers\n",
      "No upcoming events found.\n"
     ]
    }
   ],
   "source": [
    "# Print next \"primary\" calendar events\n",
    "now = datetime.utcnow().isoformat() + 'Z' # 'Z' indicates UTC time\n",
    "print('Getting the upcoming 10 events')\n",
    "\n",
    "start = datetime(2018, 5, 17, 0, 0, 0, tzinfo=eastern).isoformat()\n",
    "end = datetime(2018, 5, 17, 23, 30, 0, tzinfo=eastern).isoformat()\n",
    "\n",
    "print(now)\n",
    "print(start)\n",
    "for cal in pcalendars:\n",
    "    print()\n",
    "    print(cal)\n",
    "    id=pcalendars[cal]['id']\n",
    "    events_result = service.events().list(\n",
    "        calendarId=id, \n",
    "        timeMin=start, \n",
    "        timeMax=end,\n",
    "        maxResults=3, singleEvents=True,\n",
    "        orderBy='startTime').execute()\n",
    "    events = events_result.get('items', [])\n",
    "\n",
    "    if not events:\n",
    "        print('No upcoming events found.')\n",
    "    for event in events:\n",
    "        ev_start = event['start'].get('dateTime', event['start'].get('date'))\n",
    "        print(ev_start, event['summary'])\n"
   ]
  },
  {
   "cell_type": "code",
   "execution_count": 56,
   "metadata": {},
   "outputs": [
    {
     "name": "stdout",
     "output_type": "stream",
     "text": [
      "2018-05-17T14:09:34.457471Z\n",
      "2018-05-17 14:17:15.784356+00:00\n",
      "2018-05-17 23:17:15.784459\n"
     ]
    }
   ],
   "source": [
    "print(now)\n",
    "print(datetime.datetime.now(pytz.utc))\n",
    "print(datetime.datetime.now())"
   ]
  },
  {
   "cell_type": "code",
   "execution_count": 90,
   "metadata": {},
   "outputs": [
    {
     "name": "stdout",
     "output_type": "stream",
     "text": [
      "2018-05-17 06:00:00-04:56\n",
      "2018-05-17 20:00:00-04:56\n",
      "2018-05-17 10:35:29.381267-04:00\n"
     ]
    }
   ],
   "source": [
    "from datetime import datetime, timedelta\n",
    "from pytz import timezone\n",
    "import pytz\n",
    "\n",
    "start_date = \"month, date, year\"\n",
    "end_date = \"month, date, year\"\n",
    "\n",
    "start_time = \"xx:xx\"\n",
    "start_time = \"xx:xx\"\n",
    "\n",
    "eastern = timezone('US/Eastern')\n",
    "start = datetime(2018, 5, 17, 6, 0, 0, tzinfo=eastern)\n",
    "end = datetime(2018, 5, 17, 20, 0, 0, tzinfo=eastern)\n",
    "\n",
    "print(start)\n",
    "print(end)\n",
    "\n",
    "print(datetime.now(eastern))\n",
    "# start_year = now.year\n",
    "# start_day = now.day\n",
    "# start_month = now.month\n",
    "\n",
    "# end_year = 2018\n",
    "# end_day = 20\n",
    "# end_month = 5\n",
    "\n",
    "# end = now + timedelta(hours=24*())\n",
    "\n",
    "# # print(\"start:\", start_month, start_day, start_year)\n",
    "# print(start)\n",
    "# print(end)"
   ]
  },
  {
   "cell_type": "code",
   "execution_count": null,
   "metadata": {},
   "outputs": [],
   "source": []
  },
  {
   "cell_type": "code",
   "execution_count": null,
   "metadata": {},
   "outputs": [],
   "source": []
  },
  {
   "cell_type": "code",
   "execution_count": null,
   "metadata": {},
   "outputs": [],
   "source": []
  }
 ],
 "metadata": {
  "kernelspec": {
   "display_name": "Python 3",
   "language": "python",
   "name": "python3"
  },
  "language_info": {
   "codemirror_mode": {
    "name": "ipython",
    "version": 3
   },
   "file_extension": ".py",
   "mimetype": "text/x-python",
   "name": "python",
   "nbconvert_exporter": "python",
   "pygments_lexer": "ipython3",
   "version": "3.6.5"
  }
 },
 "nbformat": 4,
 "nbformat_minor": 2
}
